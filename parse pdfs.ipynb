{
 "cells": [
  {
   "cell_type": "code",
   "execution_count": 1,
   "id": "91dca0df",
   "metadata": {},
   "outputs": [],
   "source": [
    "# scraperapi"
   ]
  },
  {
   "cell_type": "code",
   "execution_count": 8,
   "id": "8479e40e",
   "metadata": {},
   "outputs": [],
   "source": [
    "#!pip install scrapy\n",
    "import scrapy\n",
    "import requests\n",
    "from bs4 import BeautifulSoup"
   ]
  },
  {
   "cell_type": "code",
   "execution_count": 3,
   "id": "26add94c",
   "metadata": {},
   "outputs": [],
   "source": [
    "path_to_files = \"C:/Users/Declan/Desktop/downloaded_pdfs\""
   ]
  },
  {
   "cell_type": "code",
   "execution_count": 4,
   "id": "439a0c1a",
   "metadata": {},
   "outputs": [],
   "source": [
    "queries = ['scrapy', 'beautifulsoup']"
   ]
  },
  {
   "cell_type": "code",
   "execution_count": 5,
   "id": "b2b6633f",
   "metadata": {},
   "outputs": [],
   "source": [
    "API_KEY = 'e0ee95da47b4346e9020592c7d6478a4' \n",
    "\n",
    "def get_url(url):\n",
    "    payload = {'api_key': API_KEY, 'url': url, 'autoparse': 'true', 'country_code': 'us'}\n",
    "    proxy_url = 'http://api.scraperapi.com/?' + urlencode(payload)\n",
    "    return proxy_url"
   ]
  },
  {
   "cell_type": "code",
   "execution_count": 6,
   "id": "95359044",
   "metadata": {},
   "outputs": [],
   "source": [
    "custom_settings = {'ROBOTSTXT_OBEY': False, 'LOG_LEVEL': 'INFO',\n",
    "                       'CONCURRENT_REQUESTS_PER_DOMAIN': 5, \n",
    "                       'RETRY_TIMES': 5}"
   ]
  },
  {
   "cell_type": "code",
   "execution_count": 9,
   "id": "c6276135",
   "metadata": {},
   "outputs": [
    {
     "name": "stdout",
     "output_type": "stream",
     "text": [
      "<html>\r\n",
      "<head><title>503 Service Temporarily Unavailable</title></head>\r\n",
      "<body>\r\n",
      "<center><h1>503 Service Temporarily Unavailable</h1></center>\r\n",
      "<hr><center>nginx</center>\r\n",
      "</body>\r\n",
      "</html>\r\n",
      "\n"
     ]
    }
   ],
   "source": [
    "r = requests.post(url = 'https://async.scraperapi.com/jobs', json={ 'apiKey': 'xxxxxx', 'url': 'https://www.google.com/search?q=work+incident+site%3Amckinsey.com&rlz=1C1CHBF_en-GBSG896SG896&sxsrf=ALiCzsabr9XqizOCEfEmxdjm2SDoBHxorw%3A1665307639107&ei=95NCY_-TBqKQ3LUP1eStwAY&ved=0ahUKEwi_65Sy6tL6AhUiCLcAHVVyC2gQ4dUDCA4&uact=5&oq=work+incident+site%3Amckinsey.com&gs_lcp=Cgdnd3Mtd2l6EANKBAhBGABKBAhGGABQjwZYjwZg5gdoAHAAeACAAfoEiAH6BJIBAzUtMZgBAKABAcABAQ&sclient=gws-wiz' })\n",
    "print(r.text)"
   ]
  },
  {
   "cell_type": "code",
   "execution_count": null,
   "id": "968c2748",
   "metadata": {},
   "outputs": [],
   "source": []
  }
 ],
 "metadata": {
  "kernelspec": {
   "display_name": "Python 3 (ipykernel)",
   "language": "python",
   "name": "python3"
  },
  "language_info": {
   "codemirror_mode": {
    "name": "ipython",
    "version": 3
   },
   "file_extension": ".py",
   "mimetype": "text/x-python",
   "name": "python",
   "nbconvert_exporter": "python",
   "pygments_lexer": "ipython3",
   "version": "3.9.12"
  }
 },
 "nbformat": 4,
 "nbformat_minor": 5
}
