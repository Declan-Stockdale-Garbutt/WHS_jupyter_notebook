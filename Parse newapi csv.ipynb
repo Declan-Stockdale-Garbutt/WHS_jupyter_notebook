{
 "cells": [
  {
   "cell_type": "code",
   "execution_count": 1,
   "id": "6366c920",
   "metadata": {},
   "outputs": [],
   "source": [
    "import pandas as pd\n",
    "import numpy as np"
   ]
  },
  {
   "cell_type": "code",
   "execution_count": 6,
   "id": "66781c43",
   "metadata": {},
   "outputs": [],
   "source": [
    "df = df[['title','body_content', 'meta_keywords', 'headings']]"
   ]
  },
  {
   "cell_type": "code",
   "execution_count": 8,
   "id": "fb23983a",
   "metadata": {},
   "outputs": [
    {
     "data": {
      "text/html": [
       "<div>\n",
       "<style scoped>\n",
       "    .dataframe tbody tr th:only-of-type {\n",
       "        vertical-align: middle;\n",
       "    }\n",
       "\n",
       "    .dataframe tbody tr th {\n",
       "        vertical-align: top;\n",
       "    }\n",
       "\n",
       "    .dataframe thead th {\n",
       "        text-align: right;\n",
       "    }\n",
       "</style>\n",
       "<table border=\"1\" class=\"dataframe\">\n",
       "  <thead>\n",
       "    <tr style=\"text-align: right;\">\n",
       "      <th></th>\n",
       "      <th>title</th>\n",
       "      <th>body_content</th>\n",
       "      <th>meta_keywords</th>\n",
       "      <th>headings</th>\n",
       "    </tr>\n",
       "  </thead>\n",
       "  <tbody>\n",
       "    <tr>\n",
       "      <th>0</th>\n",
       "      <td>Make electric vehicles lighter to maximize cli...</td>\n",
       "      <td>Make electric vehicles lighter to maximize cli...</td>\n",
       "      <td>pmid:34642477, doi:10.1038/d41586-021-02760-8,...</td>\n",
       "      <td>['Make electric vehicles lighter to maximize c...</td>\n",
       "    </tr>\n",
       "  </tbody>\n",
       "</table>\n",
       "</div>"
      ],
      "text/plain": [
       "                                               title  \\\n",
       "0  Make electric vehicles lighter to maximize cli...   \n",
       "\n",
       "                                        body_content  \\\n",
       "0  Make electric vehicles lighter to maximize cli...   \n",
       "\n",
       "                                       meta_keywords  \\\n",
       "0  pmid:34642477, doi:10.1038/d41586-021-02760-8,...   \n",
       "\n",
       "                                            headings  \n",
       "0  ['Make electric vehicles lighter to maximize c...  "
      ]
     },
     "execution_count": 8,
     "metadata": {},
     "output_type": "execute_result"
    }
   ],
   "source": [
    "df.head(1)"
   ]
  },
  {
   "cell_type": "code",
   "execution_count": 10,
   "id": "b3f4c734",
   "metadata": {},
   "outputs": [
    {
     "data": {
      "text/plain": [
       "'Make electric vehicles lighter to maximize climate and safety benefits Nature . 2021 Oct;598(7880):254-256. doi: 10.1038/d41586-021-02760-8. Authors Blake Shaffer , Maximilian Auffhammer , Constantine Samaras PMID: 34642477 DOI: 10.1038/d41586-021-02760-8 No abstract available Keywords: Climate change; Engineering; Physics; Policy. MeSH terms Accidents, Traffic / mortality Electric Power Supplies* / economics Electric Power Supplies* / standards Electricity* Global Warming / economics Global Warming / prevention & control* Humans Motor Vehicles* / economics Safety* Taxes Vehicle Emissions / prevention & control Substances Vehicle Emissions'"
      ]
     },
     "execution_count": 10,
     "metadata": {},
     "output_type": "execute_result"
    }
   ],
   "source": [
    "df['body_content'][0]"
   ]
  },
  {
   "cell_type": "code",
   "execution_count": null,
   "id": "bd7538e0",
   "metadata": {},
   "outputs": [],
   "source": []
  }
 ],
 "metadata": {
  "kernelspec": {
   "display_name": "Python 3 (ipykernel)",
   "language": "python",
   "name": "python3"
  },
  "language_info": {
   "codemirror_mode": {
    "name": "ipython",
    "version": 3
   },
   "file_extension": ".py",
   "mimetype": "text/x-python",
   "name": "python",
   "nbconvert_exporter": "python",
   "pygments_lexer": "ipython3",
   "version": "3.9.12"
  }
 },
 "nbformat": 4,
 "nbformat_minor": 5
}
